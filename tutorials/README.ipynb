{
 "cells": [
  {
   "cell_type": "markdown",
   "metadata": {},
   "source": [
    "# BrainNetworksInPython &nbsp;\n",
    "[![Join the chat at https://gitter.im/WhitakerLab/BrainNetworksInPython](https://badges.gitter.im/WhitakerLab/BrainNetworksInPython.svg)](https://gitter.im/WhitakerLab/BrainNetworksInPython?utm_source=badge&utm_medium=badge&utm_campaign=pr-badge&utm_content=badge) [![Build Status](https://travis-ci.org/WhitakerLab/BrainNetworksInPython.svg?branch=master)](https://travis-ci.org/WhitakerLab/BrainNetworksInPython)\n",
    "[![License: MIT](https://img.shields.io/badge/License-MIT-yellow.svg)](https://github.com/WhitakerLab/BrainNetworksInPython/blob/master/LICENSE)\n",
    "\n",
    "Welcome to the BrainNetworksInPython GitHub repository!:sparkles: <img align=\"right\" src=\"https://media.giphy.com/media/3ohhwwL4kj5z1Id6uI/giphy.gif\">\n",
    "\n",
    "## Getting Started\n",
    "\n",
    "### Prerequisites\n",
    "\n",
    "BrainNetworksInPython requires Python3 with the following Python modules installed\n",
    "\n",
    "* [numpy](https://pypi.python.org/pypi/numpy/1.13.0rc1)\n",
    "* [pandas](https://pypi.python.org/pypi/pandas/0.20.1)\n",
    "* [matplotlib](https://matplotlib.org/users/installing.html)\n",
    "* [community/python-louvain](https://pypi.python.org/pypi/python-louvain/0.6) (pip install python-louvain if you use pip)\n",
    "* [networkx](https://pypi.python.org/pypi/networkx/2.20)\n",
    "* [seaborn](https://pypi.python.org/pypi/seaborn/)\n",
    "\n",
    "### Installing\n",
    "\n",
    "Clone the repository using either\n",
    "```\n",
    "git clone git@github.com:WhitakerLab/BrainNetworksInPython.git\n",
    "``` \n",
    "or \n",
    "```\n",
    "git clone https://github.com/WhitakerLab/BrainNetworksInPython.git\n",
    "```\n",
    "### demo\n"
   ]
  },
  {
   "cell_type": "code",
   "execution_count": 3,
   "metadata": {},
   "outputs": [
    {
     "ename": "NameError",
     "evalue": "name 'regionalmeasures_file' is not defined",
     "output_type": "error",
     "traceback": [
      "\u001b[0;31m---------------------------------------------------------------------------\u001b[0m",
      "\u001b[0;31mNameError\u001b[0m                                 Traceback (most recent call last)",
      "\u001b[0;32m<ipython-input-3-831028b2ab08>\u001b[0m in \u001b[0;36m<module>\u001b[0;34m()\u001b[0m\n\u001b[1;32m      1\u001b[0m \u001b[0;32mimport\u001b[0m \u001b[0mwrappers\u001b[0m\u001b[0;34m.\u001b[0m\u001b[0mcorrmat_from_regionalmeasures\u001b[0m \u001b[0;32mas\u001b[0m \u001b[0mcfrm\u001b[0m\u001b[0;34m\u001b[0m\u001b[0m\n\u001b[0;32m----> 2\u001b[0;31m \u001b[0mcfrm\u001b[0m\u001b[0;34m.\u001b[0m\u001b[0mcorrmat_from_regionalmeasures\u001b[0m\u001b[0;34m(\u001b[0m\u001b[0mregionalmeasures_file\u001b[0m\u001b[0;34m,\u001b[0m \u001b[0mnames_file\u001b[0m\u001b[0;34m,\u001b[0m \u001b[0mcorrmat_file\u001b[0m\u001b[0;34m,\u001b[0m \u001b[0mnames_308_style\u001b[0m\u001b[0;34m=\u001b[0m\u001b[0;32mTrue\u001b[0m\u001b[0;34m)\u001b[0m\u001b[0;34m\u001b[0m\u001b[0m\n\u001b[0m",
      "\u001b[0;31mNameError\u001b[0m: name 'regionalmeasures_file' is not defined"
     ]
    }
   ],
   "source": [
    "import wrappers.corrmat_from_regionalmeasures as cfrm\n",
    "cfrm.corrmat_from_regionalmeasures(regionalmeasures_file, names_file, corrmat_file, names_308_style=True)"
   ]
  },
  {
   "cell_type": "markdown",
   "metadata": {},
   "source": [
    "## What are we doing?\n",
    "BrainNetworksInPython is a toolkit to analyse structural covariance brain networks using python.  \n",
    "\n",
    "BrainNetworksInPython takes regional cortical thickness data obtained from structural MRI and generates a matrix of correlations between regions over a cohort of subjects. The correlation matrix is used alongside the [networkx package](https://networkx.github.io/) to generate a variety of networks and network measures.\n",
    "\n",
    "The BrainNetworksInPython codebase was first developed by Dr Kirstie Whitaker for the Neuroscience in Psychiatry Network publication \"Adolescence is associated with genomically patterned consolidation of the hubs of the human brain connectome\" published in PNAS in 2016 [(Whitaker*, Vertes* et al, 2016](http://dx.doi.org/10.1073/pnas.1601745113)). This project is to take the existing codebase (accessible at https://github.com/KirstieJane/NSPN_WhitakerVertes_PNAS2016) and turn it into a documented, tested python package that is easy to use and re-use.\n",
    "\n",
    "Check out our [tutorial](jupyter_demo.ipynb) to get started.\n",
    "\n",
    "## Want to get involved?\n",
    "BrainNetworksInPython is openly developed and welcomes contributers.\n",
    "\n",
    "If you're thinking about contributing (:green_heart: you are loved), our [roadmap](https://github.com/WhitakerLab/BrainNetworksInPython/issues/12) and our [contributing guidelines](https://github.com/WhitakerLab/BrainNetworksInPython/blob/master/CONTRIBUTING.md) are a good place to start. You don't need advanced skills or knowledge to help out. Newbies to Python, neuroscience, git and GitHub are all welcome.\n",
    "\n",
    "If you have questions or want to get in touch you can join our [gitter lobby](https://gitter.im/WhitakerLab/BrainNetworksInPython?utm_source=badge&utm_medium=badge&utm_campaign=pr-badge&utm_content=badge), tweet @Whitaker\\_Lab or email Isla at islastaden __*at*__ gmail __*dot*__ com.\n",
    "\n",
    "## Other Stuff\n",
    "\n",
    "To view our (successful) Mozilla Mini-Grant application, head [here](https://github.com/WhitakerLab/WhitakerLabProjectManagement/blob/master/FUNDING_APPLICATIONS/MozillaScienceLabMiniGrant_June2017.md).\n",
    "\n",
    "In October 2017 BrainNetworksInPython ran a MozFest [session](https://github.com/MozillaFoundation/mozfest-program-2017/issues/724)\n",
    "\n",
    "We are still choosing a name for our python package, vote here https://poll.ly/#/Gx4yMMY7"
   ]
  }
 ],
 "metadata": {
  "kernelspec": {
   "display_name": "Python 3",
   "language": "python",
   "name": "python3"
  },
  "language_info": {
   "codemirror_mode": {
    "name": "ipython",
    "version": 3
   },
   "file_extension": ".py",
   "mimetype": "text/x-python",
   "name": "python",
   "nbconvert_exporter": "python",
   "pygments_lexer": "ipython3",
   "version": "3.6.4"
  }
 },
 "nbformat": 4,
 "nbformat_minor": 2
}
